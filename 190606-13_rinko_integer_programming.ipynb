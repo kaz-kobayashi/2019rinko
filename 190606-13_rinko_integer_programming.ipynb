{
  "nbformat": 4,
  "nbformat_minor": 0,
  "metadata": {
    "colab": {
      "name": "190606-rinko-integer-programming.ipynb",
      "version": "0.3.2",
      "provenance": [],
      "collapsed_sections": [],
      "include_colab_link": true
    },
    "kernelspec": {
      "name": "python3",
      "display_name": "Python 3"
    }
  },
  "cells": [
    {
      "cell_type": "markdown",
      "metadata": {
        "id": "view-in-github",
        "colab_type": "text"
      },
      "source": [
        "<a href=\"https://colab.research.google.com/github/kaz-kobayashi/2019rinko/blob/master/190606-13_rinko_integer_programming.ipynb\" target=\"_parent\"><img src=\"https://colab.research.google.com/assets/colab-badge.svg\" alt=\"Open In Colab\"/></a>"
      ]
    },
    {
      "cell_type": "code",
      "metadata": {
        "id": "0u-3FWAK0WlF",
        "colab_type": "code",
        "colab": {}
      },
      "source": [
        ""
      ],
      "execution_count": 0,
      "outputs": []
    },
    {
      "cell_type": "markdown",
      "metadata": {
        "id": "hpC65o9O6G_q",
        "colab_type": "text"
      },
      "source": [
        "#ナップサック問題\n",
        "\n",
        "重さが$w_j$(kg)で価格が$c_j$（千円）である品物$j$がある ($j=1,2,...,5$)．これらを15kgの容量のナップサックに，選んで詰めてもって行こう．品物の総価格が最大になるにはどれを選んだらよいでしょうか？\n",
        "\n",
        "|    | 品物1 |  品物2 | 品物3 | 品物4 | 品物5 |\n",
        "| :--- | :---: | ---: |---: |---: |---: |\n",
        "| 価格$c_j$（千円） | 50 | 40 | 10 | 70  |55 |\n",
        "| 重量$w_j$(kg) | 7 | 5 | 1  | 9 | 6 |\n",
        "\n",
        "品物ごとに0-1変数$x_j \\in \\{0,1\\}$を割り当て，その変数が0ならばナップサックに入れない，１ならば入れると考えます．目的関数は，価格$c_j$に$x_j$を掛けて，全ての品物について足し合わせたものである．制約条件は，総重量が15kgを超えないということ．まとめると以下のような最適化問題となります．\n",
        "\n",
        "$\n",
        "\\max 50x_1 + 40x_2 + 10x_3 + 70x_4 + 55x_5 \n",
        "$\n",
        "\n",
        "$\n",
        "\\text{s.t.  }  7x_1 + 5x_2 + x_3 + 9x_4 + 6x_5  \\leq 15\n",
        "$\n",
        "\n",
        "$\n",
        "\\quad \\quad x_j \\in \\{0,1\\} j=1,2,...,5\n",
        "$\n"
      ]
    },
    {
      "cell_type": "markdown",
      "metadata": {
        "id": "3e_K4Y0Z8133",
        "colab_type": "text"
      },
      "source": [
        "## 準備\n",
        "PuLPを使うために，まずはインストールしましょう．"
      ]
    },
    {
      "cell_type": "code",
      "metadata": {
        "id": "ax1qWCZy81kK",
        "colab_type": "code",
        "colab": {}
      },
      "source": [
        "pip install pulp"
      ],
      "execution_count": 0,
      "outputs": []
    },
    {
      "cell_type": "markdown",
      "metadata": {
        "id": "55_S0WHS6Osx",
        "colab_type": "text"
      },
      "source": [
        "## 演習1-1\n",
        "\n",
        "この問題を，PuLPを使って(0-1)整数線形最適化問題として定式化して解きましょう．\n",
        "BeProud斎藤さんによるPuLPのチートシートがあります．scrapboxの19-06-06輪講ページを参照ください．\n",
        "\n",
        "ヒント　0-1変数を定義するときは，LpVariable()で変数を生成するときに，型としてLpBinaryを指定します． LpVariable(......,cat=LpBinary)\n"
      ]
    },
    {
      "cell_type": "code",
      "metadata": {
        "id": "63AVy7YJ78hF",
        "colab_type": "code",
        "colab": {}
      },
      "source": [
        "from pulp import *\n",
        "x1=LpVariable('x1',cat=LpBinary)\n",
        "x2=LpVariable('x2',cat=LpBinary)\n",
        "x3=LpVariable('x3',cat=LpBinary)\n",
        "x4=LpVariable('x4',cat=LpBinary)\n",
        "x5=LpVariable('x5',cat=LpBinary)\n",
        "knapsack=LpProblem('Knapsack',sense=LpMaximize)\n",
        "knapsack+=50*x1+40*x2+10*x3+70*x4+55*x5\n",
        "knapsack+=7*x1+5*x2+1*x3+9*x4+6*x5<=15\n",
        "\n",
        "knapsack.solve()\n",
        "\n",
        "print(\"status=\",LpStatus[knapsack.status],\" optimval value=\",knapsack.objective)\n",
        "\n",
        "for v in knapsack.variables():\n",
        "    print(v.name,\"=\",value(v))\n",
        " \n",
        "print(\"total value=\",value(knapsack.objective))\n"
      ],
      "execution_count": 0,
      "outputs": []
    },
    {
      "cell_type": "markdown",
      "metadata": {
        "id": "A2lf4miC6Su1",
        "colab_type": "text"
      },
      "source": [
        "## 演習1-2\n",
        "\n",
        "品物の数を10に増やして，それぞれの価格と重量を設定し，演習１で作成したプログラムで解いてみましょう．\n"
      ]
    },
    {
      "cell_type": "code",
      "metadata": {
        "id": "pqPyQUXNJ_1W",
        "colab_type": "code",
        "colab": {}
      },
      "source": [
        "nItems=10\n",
        "#↓アイテムを表すリスト[0,1,2,...,9]を作る\n",
        "items=list(range(nItems))\n",
        "print(\"items:\",items)\n",
        "\n",
        "#↓x0,x1,...,x9と，10個の変数の名前を作る\n",
        "x_names=['x'+str(i) for i in items]\n",
        "print(\"x_names:\",x_names)\n",
        "\n",
        "#↓x0,x1...,x9という10個の名前で，PuLPで使う変数を生成する:x[0],x[1],...,x[9]\n",
        "x=[LpVariable(i,cat=LpBinary) for i in x_names]\n",
        "print(\"x:\",x)\n",
        "\n",
        "#↓価値c[0],c[1],...,c[9]と重量w[0],w[1],...w[9]を生成する．また，ナップサックの容量Bを設定する\n",
        "c=[50,40,10,70,55,32,8,29,10,49]\n",
        "w=[5,3,8,2,7,4,10,2,3,4]\n",
        "B=30\n",
        "\n",
        "knapsack2=LpProblem('Knapsack2',sense=LpMaximize)\n"
      ],
      "execution_count": 0,
      "outputs": []
    },
    {
      "cell_type": "markdown",
      "metadata": {
        "id": "fCNttLHZKCjM",
        "colab_type": "text"
      },
      "source": [
        "次に目的関数を設定しますが，lpSum()を使うと便利です．lpSum()の引数には，目的関数の各項を要素とするリストを渡します．この問題では，  [c[0]*x[0], c[1]*x[1], ...,c[9]*x[9]] （[ 50*x0, 40*x1, 10*x2,...,49x9]） となっているリストを渡すことになります．\n",
        "\n",
        "これには，内包表記を使って，[  c[i]*x[i] for i in items ] と書けばいいです．"
      ]
    },
    {
      "cell_type": "code",
      "metadata": {
        "id": "QxycpYfNKKtR",
        "colab_type": "code",
        "colab": {}
      },
      "source": [
        "obj_term = [ c[i]*x[i] for i in items ]\n",
        "for i in obj_term:\n",
        "    print(i)"
      ],
      "execution_count": 0,
      "outputs": []
    },
    {
      "cell_type": "code",
      "metadata": {
        "id": "wYSOX7HQ79Rm",
        "colab_type": "code",
        "colab": {}
      },
      "source": [
        "#↓目的関数c[0]*x[0]+c[1]*x[1]+...+c[9]*x[9]を問題に設定する\n",
        "knapsack2+=lpSum([c[i]*x[i] for i in items])\n",
        "\n",
        "#制約式を追加する\n",
        "knapsack2+=lpSum([w[i]*x[i] for i in items])<=B\n",
        "\n",
        "print(knapsack2)\n",
        "\n",
        "#解く\n",
        "knapsack2.solve()\n",
        "\n",
        "print(LpStatus[knapsack2.status])\n",
        "\n",
        "for v in knapsack2.variables():\n",
        "    print(v.name,\"=\",value(v))\n",
        " \n",
        "print(\"total value=\",value(knapsack2.objective))\n"
      ],
      "execution_count": 0,
      "outputs": []
    },
    {
      "cell_type": "markdown",
      "metadata": {
        "id": "VczYmMTp6Vvj",
        "colab_type": "text"
      },
      "source": [
        "## 演習1-3\n",
        "\n",
        "品物の数を$n$とすることにして，$n$個の品物の価格と重量を乱数で設定するプログラムを作成しましょう．そして，$n=30,40,50$に対して価格と重量を実際に生成し，演習１で作成したプログラムでナップサック問題を解いてみましょう．その際，各$n$での実行時間を計測しましょう．\n"
      ]
    },
    {
      "cell_type": "markdown",
      "metadata": {
        "id": "tx4bJDFpHguo",
        "colab_type": "text"
      },
      "source": [
        "ヒント　整数の乱数を使って，価値のリストcと重量のリストwを生成しましょう．整数の乱数を生成するには，numpyの中のrandomを使います．"
      ]
    },
    {
      "cell_type": "code",
      "metadata": {
        "id": "xswH2ftg79q6",
        "colab_type": "code",
        "colab": {}
      },
      "source": [
        "from numpy.random import *\n",
        "#0から99までの整数の乱数を20個生成\n",
        "randint(10,100,20)"
      ],
      "execution_count": 0,
      "outputs": []
    },
    {
      "cell_type": "code",
      "metadata": {
        "id": "-dkdz1YiIBGU",
        "colab_type": "code",
        "colab": {}
      },
      "source": [
        ""
      ],
      "execution_count": 0,
      "outputs": []
    },
    {
      "cell_type": "markdown",
      "metadata": {
        "id": "ve51pdap6ihZ",
        "colab_type": "text"
      },
      "source": [
        "# 集合分割問題\n",
        "\n",
        "集合分割問題は，与えられた集合を，その部分集合に分割する問題です．候補の部分集合$j$にはそれぞれ費用$c_j$が与えられていますが，採用する部分集合の費用の和を最小にするように部分集合を選ぶことがこの問題の目的です．分割したい元の集合の要素を$1,,2,...m$，候補とする部分集合を$1,2,...,N$，部分集合$j$を採用するとき1，それ以外のとき0をとる0-1変数を$x_j$，元の集合の要素$i$が部分集合$j$に含まれるとき1，それ以外のとき0として$a_{ij}$を定めると，集合分割問題は次の整数線形最適化問題として定式化できます．\n",
        "\n",
        "$\n",
        "\\displaystyle \\min \\sum_{j=1}^N c_j x_j \n",
        "$\n",
        "\n",
        "$\n",
        "\\displaystyle  \\text{s.t. } \\sum_{j=1}^N a_{ij} x_j = 1 \\quad \\forall i =1,2,...m\n",
        "$\n",
        "\n",
        "$\n",
        "\\displaystyle  \\quad \\quad x_j \\in \\{0,1\\} \\quad \\forall  j=1,2,...N\n",
        "$\n"
      ]
    },
    {
      "cell_type": "markdown",
      "metadata": {
        "id": "f1eQj5-Y6mQ6",
        "colab_type": "text"
      },
      "source": [
        "\n",
        "##演習2-1\n",
        "\n",
        "集合分割問題を整数線形最適化問題として定式化したものを PuLPで実装しましょう．ただし，データは次のものとします．$a_{ij}$の値は，行列$A$の$(i,j)$成分とします．\n",
        "\n",
        "$m=5, n=8, c=[8,6,10,12,7,6,15,9]$\n",
        "\n",
        "$\n",
        "A=\n",
        "\\begin{bmatrix}\n",
        "1 & 0 & 0 & 1 & 0 &0 &0 & 0\\\\\n",
        "0 & 1 & 1 & 1 & 0 &1 &1 & 0\\\\\n",
        "0 & 0 & 0 & 0 & 1 &0 &1 & 0\\\\\n",
        "1 & 1 & 0 & 0 & 0 &1 &1 & 0 \\\\\n",
        "0 & 0 & 1 & 1 & 0 &1 &0 & 1\n",
        "\\end{bmatrix}\n",
        "$\n",
        "\n",
        "\n",
        "ヒント，\n",
        "$a_{ij}$は，numpy.arrayを使って定義すると便利です．scrapboxの記事をご覧ください．a=numpy.array([[１行目],[2行目],[3行目]...])などと定義して，a[i]でi+1行目にアクセスできるようにしておくと制約式の定義が楽です．"
      ]
    },
    {
      "cell_type": "code",
      "metadata": {
        "id": "eFhoDN_qMegg",
        "colab_type": "code",
        "colab": {}
      },
      "source": [
        "import numpy as np"
      ],
      "execution_count": 0,
      "outputs": []
    },
    {
      "cell_type": "code",
      "metadata": {
        "id": "HbTT_qybMq6x",
        "colab_type": "code",
        "colab": {}
      },
      "source": [
        "A=np.array([ [1,0,0,1,0,0,0,0], [0,1,1,1,0,1,1,0], [0,0,0,0,1,0,1,0], [1,1,0,0,0,1,1,0], [0,0,1,1,0,1,0,1] ])\n",
        "print(A)"
      ],
      "execution_count": 0,
      "outputs": []
    },
    {
      "cell_type": "markdown",
      "metadata": {
        "id": "Ae_VWAnZMvSK",
        "colab_type": "text"
      },
      "source": [
        "これで，A[i]とすると行列Aのi行目にアクセスできるようになりました．\n",
        "\n",
        "問題を定義してから，目的関数を設定するまでは，次の通りです．"
      ]
    },
    {
      "cell_type": "code",
      "metadata": {
        "id": "z_W5eTE0NE7e",
        "colab_type": "code",
        "colab": {}
      },
      "source": [
        "m=5\n",
        "nSubsets=8\n",
        "subsets=list(range(nSubsets))\n",
        "print(\"subsets:\",subsets)\n",
        "\n",
        "#↓x0,x1,...,x9と，10個の変数の名前を作る\n",
        "x_names=['x'+str(i) for i in subsets]\n",
        "\n",
        "#各部分集合に対して変数を定義したいので，それらの名前を用意しておく\n",
        "col_names=['x'+str(i) for i in range(n)]\n",
        "print(\"col_names:\",col_names)\n",
        "#変数を生成する\n",
        "x=[LpVariable(i,cat=LpBinary) for i in col_names]\n",
        "\n",
        "c=[8,6,10,12,7,6,15,9]\n",
        "print(x,c)\n",
        "sp=LpProblem('set partitioning',sense=LpMinimize)\n",
        "sp+=lpSum( [c[i]*x[i] for i in subsets ] )\n",
        "print(sp)"
      ],
      "execution_count": 0,
      "outputs": []
    },
    {
      "cell_type": "markdown",
      "metadata": {
        "id": "n64eUB9eOlN7",
        "colab_type": "text"
      },
      "source": [
        "ここまでで，目的関数が設定できました．あとは，$m$本の制約式を追加すれば定式化の完成です．挑戦してみてください．"
      ]
    },
    {
      "cell_type": "markdown",
      "metadata": {
        "id": "-VN9J-RQ6qEM",
        "colab_type": "text"
      },
      "source": [
        "## 結婚式の席決め問題\n",
        "\n",
        "https://pythonhosted.org/PuLP/CaseStudies/a_set_partitioning_problem.html\n",
        "\n",
        "### 集合分割問題としての定式化\n",
        "結婚式のゲストを，４人ずつのテーブルに分けなければなりません（４人より少ないテーブルがあってもよいです）．そのとき，分け方がゲストの皆さんにとって出来るだけハッピーなものでなければなりません．この問題は，結婚式のゲストを集合の要素，テーブルへの分け方を候補となる部分集合とすると，集合分割問題として定式化されます．\n",
        "\n",
        "### 集合と部分集合\n",
        "結婚式のゲストを要素する集合をguests, テーブルでの席の候補を要素とする部分集合の集合を，possible_tablesとします．guestsは，A,B,...Rとしましょう．\n",
        "\n",
        "\n",
        "guests =  'A B C D E F G I J K L M N O P Q R'.split()\n",
        "\n",
        "これを実行して， guestsはAからRまでのアルファベットを要素とするリストとなっていることを確認してください．\n"
      ]
    },
    {
      "cell_type": "code",
      "metadata": {
        "id": "VOAy6Vgi65l_",
        "colab_type": "code",
        "colab": {
          "base_uri": "https://localhost:8080/",
          "height": 34
        },
        "outputId": "3900af9e-3923-44f6-fe8b-a4efc9134dd6"
      },
      "source": [
        "guests =  'A B C D E F G I J K L M N O P Q R'.split()\n",
        "print(\"guests:\",guests)"
      ],
      "execution_count": 60,
      "outputs": [
        {
          "output_type": "stream",
          "text": [
            "guests: ['A', 'B', 'C', 'D', 'E', 'F', 'G', 'I', 'J', 'K', 'L', 'M', 'N', 'O', 'P', 'Q', 'R']\n"
          ],
          "name": "stdout"
        }
      ]
    },
    {
      "cell_type": "markdown",
      "metadata": {
        "id": "SR6LsK5O69S3",
        "colab_type": "text"
      },
      "source": [
        "### データのプログラムでの生成\n",
        "\n",
        "ここでは，演習2-1のときとは違って，問題例を定めるデータ（パラメータ）$a_{ij}, c_j$もプログラムで生成してみましょう．\n",
        "\n",
        "まず，ゲストの座席への分け方を全て列挙しましょう．集合guestsの要素の組合せで，４人以下のものを列挙するには，pulp.allcombinations()が便利です．テーブル最大人数をmax_table_size=4としておきましょう．ゲストの４人以下の組合せを，possible_tablesとして記憶することにします．\n",
        "\n",
        "allcombinations()は，１番目の引数として与えられたリスト(guests)の要素から，２番目の引数として与えられた整数(max_table_size)の要素数の部分集合を全て生成します．"
      ]
    },
    {
      "cell_type": "code",
      "metadata": {
        "id": "hBfSGUCc684i",
        "colab_type": "code",
        "colab": {
          "base_uri": "https://localhost:8080/",
          "height": 34
        },
        "outputId": "901e8d71-ad8f-44cb-b799-7b45ed3fd9c4"
      },
      "source": [
        "max_table_size=4\n",
        "possible_tables=[tuple(c) for c in pulp.allcombinations(guests,max_table_size)]\n",
        "print(len(possible_tables))"
      ],
      "execution_count": 64,
      "outputs": [
        {
          "output_type": "stream",
          "text": [
            "3213\n"
          ],
          "name": "stdout"
        }
      ]
    },
    {
      "cell_type": "markdown",
      "metadata": {
        "id": "0krwLoOA6uvD",
        "colab_type": "text"
      },
      "source": [
        "possible_tablesの要素数は，3213個になります．ですので，集合分割問題の整数線形最適化の定式化での$n$は，この問題では$n=3213$になります．\n",
        "\n",
        "次に，possible_tablesの各要素に対して，それを採用するか否かを表す0-1変数を定義しましょう．これには，LpVariable.dicts()を使うと便利です．\n",
        "\n",
        "\n"
      ]
    },
    {
      "cell_type": "code",
      "metadata": {
        "id": "LRAxgc6M7D-X",
        "colab_type": "code",
        "colab": {}
      },
      "source": [
        "x=pulp.LpVariable.dicts('table',possible_tables,cat=LpBinary)\n",
        "print(len(x))"
      ],
      "execution_count": 0,
      "outputs": []
    },
    {
      "cell_type": "markdown",
      "metadata": {
        "id": "QMuzga8X7K54",
        "colab_type": "text"
      },
      "source": [
        "これで，3213個の0-1変数が定義されました．"
      ]
    },
    {
      "cell_type": "markdown",
      "metadata": {
        "id": "oA2xf4iD7Olb",
        "colab_type": "text"
      },
      "source": [
        "次に，各部分集合のコストを定義します．3213個のそれぞれに値を指定してもいいのですが，大変なので今回は簡単な関数でコストを決めることにします。\n"
      ]
    },
    {
      "cell_type": "code",
      "metadata": {
        "id": "z9iKv0NA7Rte",
        "colab_type": "code",
        "colab": {}
      },
      "source": [
        "def happiness(table):\n",
        "    return abs(ord(table[0]) - ord(table[-1]))"
      ],
      "execution_count": 0,
      "outputs": []
    },
    {
      "cell_type": "markdown",
      "metadata": {
        "id": "u10cZWwQ7UZl",
        "colab_type": "text"
      },
      "source": [
        "この関数happiness(table)は，引数tableにテーブル座席（3213個の候補の一つ）を与えると，その座席割り当ての幸福度を計算するものです．happinesss(table)の引数tableとなるのは，('A', 'B', 'E')などという，ゲストの席割り候補です．この席割り候補は，文字列を要素とするタプルです．いま，"
      ]
    },
    {
      "cell_type": "code",
      "metadata": {
        "id": "eiejj2PwQXsD",
        "colab_type": "code",
        "colab": {}
      },
      "source": [
        "table=('A', 'B', 'E')"
      ],
      "execution_count": 0,
      "outputs": []
    },
    {
      "cell_type": "markdown",
      "metadata": {
        "id": "h-KNBBG_QZb9",
        "colab_type": "text"
      },
      "source": [
        "だとしましょう．これをhappiness()の引数として渡すと，どういう計算が行われるでしょうか．まず，table[0]は，最初の要素’A'を表します． そして，table[-1]は最後の要素を表します．ord()という関数は，引数のアスキーコードを得るものです．細かいことは抜きにすると，ord()は，文字に対して数値を返すものだと思ってください．アルファベットに対しては，Aから順に，A,B,と１ずつ違う値が付いています．試しに，guestsの各要素に対してordの値を表示してみます．"
      ]
    },
    {
      "cell_type": "code",
      "metadata": {
        "id": "MTuO2kxIRhac",
        "colab_type": "code",
        "colab": {}
      },
      "source": [
        "for g in guests:\n",
        "    print(ord(g))"
      ],
      "execution_count": 0,
      "outputs": []
    },
    {
      "cell_type": "code",
      "metadata": {
        "id": "mcmcXCawPteb",
        "colab_type": "code",
        "colab": {}
      },
      "source": [
        "print(table[0],ord(table[0]))\n",
        "print(table[-1],ord(table[-1]))\n",
        "print(ord('A'))\n",
        "print(ord('B'))\n",
        "print(ord('D'))\n",
        "print(ord('Z'))"
      ],
      "execution_count": 0,
      "outputs": []
    },
    {
      "cell_type": "markdown",
      "metadata": {
        "id": "4xRfJhWs7YDM",
        "colab_type": "text"
      },
      "source": [
        "### 整数線形最適化問題の生成\n",
        "\n",
        "ここまでできたので，最適化問題のオブジェクトを生成しましょう。\n"
      ]
    },
    {
      "cell_type": "code",
      "metadata": {
        "id": "uqyfHvHq7aSz",
        "colab_type": "code",
        "colab": {}
      },
      "source": [
        "seating_model = pulp.LpProblem(\"Wedding Seating Model\",pulp.LpMinimize)"
      ],
      "execution_count": 0,
      "outputs": []
    },
    {
      "cell_type": "markdown",
      "metadata": {
        "id": "wLJOpHJz7c2R",
        "colab_type": "text"
      },
      "source": [
        "### 目的関数\n",
        "これに，目的関数を定義します．\n"
      ]
    },
    {
      "cell_type": "code",
      "metadata": {
        "id": "d6um_2pQ7ewG",
        "colab_type": "code",
        "colab": {}
      },
      "source": [
        "seating_model += sum([happiness(table)*x[table]  for table in possible_tables])"
      ],
      "execution_count": 0,
      "outputs": []
    },
    {
      "cell_type": "markdown",
      "metadata": {
        "id": "y3tdaD7k7hFh",
        "colab_type": "text"
      },
      "source": [
        "possible_tablesのそれぞれの要素tableに対して，happiness関数で幸福度を計算し，対応する変数x[table]にかけたものを全て足しています．"
      ]
    },
    {
      "cell_type": "markdown",
      "metadata": {
        "id": "ZNVDxxLY7j4_",
        "colab_type": "text"
      },
      "source": [
        "###  制約式\n",
        "\n",
        "制約式は2つです．\n",
        "\n",
        "1つ目の制約は，テーブルの最大数です．今回は，テーブルは5つまでとして，max_tables=5によって最大数を表すことにしましょう． \n"
      ]
    },
    {
      "cell_type": "code",
      "metadata": {
        "id": "zsxWR57w7mCp",
        "colab_type": "code",
        "colab": {}
      },
      "source": [
        "max_tables=5"
      ],
      "execution_count": 0,
      "outputs": []
    },
    {
      "cell_type": "markdown",
      "metadata": {
        "id": "9itDVkFs7oiy",
        "colab_type": "text"
      },
      "source": [
        "使われるテーブルの総数は，1になる変数の数なので，1つ目の制約式は，次で表せます．"
      ]
    },
    {
      "cell_type": "code",
      "metadata": {
        "id": "ZFuP4C337q6I",
        "colab_type": "code",
        "colab": {}
      },
      "source": [
        "seating_model+=sum([ x[table] for table in possible_tables]) <= max_tables, \"Maximum_number_of_tables\""
      ],
      "execution_count": 0,
      "outputs": []
    },
    {
      "cell_type": "code",
      "metadata": {
        "id": "syEQW6uETL6L",
        "colab_type": "code",
        "colab": {}
      },
      "source": [
        "print(seating_model)"
      ],
      "execution_count": 0,
      "outputs": []
    },
    {
      "cell_type": "markdown",
      "metadata": {
        "id": "LeWaAvPG7tYK",
        "colab_type": "text"
      },
      "source": [
        "2つ目の制約は，各ゲストはちょうど1つの席に割り当てらる，という制約です．これは，1人のゲストに対して1つの制約式で表せますから，guestsの要素に対するfor文で書くことができます．制約を，演習2-1のように行列Aで表したとすると，各行（縦）が，各ゲストに対応し，各列（横）が，テーブル割り当ての各候補に対応します．ですので，各ゲストに対する制約であるこの２番目の制約は，行列の値を横にみていくことになります．具体的には，行列の第i行目を横に見ていって，1がある列のうちの1つだけが１になっている，という制約を書けばよいことになります．"
      ]
    },
    {
      "cell_type": "markdown",
      "metadata": {
        "id": "X7xQKxnATW6-",
        "colab_type": "text"
      },
      "source": [
        "割り当て候補tableに対しては，0-1変数x[table]が定義されていることに注意してください．すると，ゲストguestがいずれかのテーブルにちょうど1回割り当てられる，という制約は，割り当て候補tableの中でguestを含んでいる場合だけ，x[table]を足していったものが，ちょうど１になっている，という制約式で表すことができます．x[table]を全て足す，という命令は，\n",
        "\n",
        "lpSum( [ x[table] for table in possible_tables ] )\n",
        "\n",
        "と表せることを思い出してください．全て足してしまうと，guestが含まれない割り当て候補のものを足されてしまうので，guestが含まれるtableに対する変数x[table]だけを足すために，内包表記で条件をつけます．\n",
        "\n",
        "lpSum( [ x[table] for table in possible_tables if guest in table] )\n"
      ]
    },
    {
      "cell_type": "code",
      "metadata": {
        "id": "yEleImOu7wAD",
        "colab_type": "code",
        "colab": {}
      },
      "source": [
        "for guest in guests:\n",
        "    seating_model+=lpSum([x[table] for table in possible_tables if guest in table]) ==1, \"Must_seat_%s\"%guest"
      ],
      "execution_count": 0,
      "outputs": []
    },
    {
      "cell_type": "code",
      "metadata": {
        "id": "YTCYl1N-TcBq",
        "colab_type": "code",
        "colab": {}
      },
      "source": [
        "print(seating_model)"
      ],
      "execution_count": 0,
      "outputs": []
    },
    {
      "cell_type": "markdown",
      "metadata": {
        "id": "0_efctXq7yRb",
        "colab_type": "text"
      },
      "source": [
        "こうして，席決め問題に対する整数線形最適化問題を書くことができました．\n"
      ]
    },
    {
      "cell_type": "markdown",
      "metadata": {
        "id": "FlwmwO0a0joP",
        "colab_type": "text"
      },
      "source": [
        "## 演習3-1\n",
        "\n",
        "結婚式の席決め問題を，上の手順によりPuLPを用いて解いてみましょう．\n",
        "\n"
      ]
    },
    {
      "cell_type": "markdown",
      "metadata": {
        "id": "W1JBqYII6D7K",
        "colab_type": "text"
      },
      "source": [
        "## 演習3-2\n",
        "\n",
        "幸福度を定める関数happiness()を変更して，異なる結果が得られるようにしましょう．\n"
      ]
    },
    {
      "cell_type": "code",
      "metadata": {
        "id": "rYRSEczr59BA",
        "colab_type": "code",
        "colab": {}
      },
      "source": [
        ""
      ],
      "execution_count": 0,
      "outputs": []
    }
  ]
}