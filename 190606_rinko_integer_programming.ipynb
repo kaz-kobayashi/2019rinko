{
  "nbformat": 4,
  "nbformat_minor": 0,
  "metadata": {
    "colab": {
      "name": "190606-rinko-integer-programming.ipynb",
      "version": "0.3.2",
      "provenance": [],
      "include_colab_link": true
    },
    "kernelspec": {
      "name": "python3",
      "display_name": "Python 3"
    }
  },
  "cells": [
    {
      "cell_type": "markdown",
      "metadata": {
        "id": "view-in-github",
        "colab_type": "text"
      },
      "source": [
        "<a href=\"https://colab.research.google.com/github/kaz-kobayashi/2019rinko/blob/master/190606_rinko_integer_programming.ipynb\" target=\"_parent\"><img src=\"https://colab.research.google.com/assets/colab-badge.svg\" alt=\"Open In Colab\"/></a>"
      ]
    },
    {
      "cell_type": "code",
      "metadata": {
        "id": "0u-3FWAK0WlF",
        "colab_type": "code",
        "colab": {}
      },
      "source": [
        ""
      ],
      "execution_count": 0,
      "outputs": []
    },
    {
      "cell_type": "markdown",
      "metadata": {
        "id": "FlwmwO0a0joP",
        "colab_type": "text"
      },
      "source": [
        "#ナップサック問題\n",
        "\n",
        "重さが$w_j$(kg)で価格が$c_j$（千円）である品物$j$がある ($j=1,2,...,5$)．これらを15kgの容量のナップサックに，選んで詰めてもって行こう．品物の総価格が最大になるにはどれを選んだらよいか？\n",
        "\n",
        "|    | 品物1 |  品物2 | 品物3 | 品物4 | 品物5 |\n",
        "| :--- | :---: | ---: |---: |---: |---: |\n",
        "| 価格$c_j$（千円） | 50 | 40 | 10 | 70  |55 |\n",
        "| 重量$w_j$(kg) | 7 | 5 | 1  | 9 | 6 |\n",
        "\n",
        "品物ごとに0-1変数$x_j \\in \\{0,1\\}$を割り当て，その変数が0ならばナップサックに入れない，１ならば入れると考える．目的関数は，価格$c_j$に$x_j$を掛けて，全ての品物について足し合わせたものである．制約条件は，総重量が15kgを超えないということ．まとめると以下のような最適化問題となる．\n",
        "\n",
        "$\n",
        "\\max 50x_1 + 40x_2 + 10x_3 + 70x_4 + 55x_5 \n",
        "$\n",
        "\n",
        "$\n",
        "\\text{s.t.}  7x_1 + 5x_2 + x_3 + 9x_4 + 6x_5  \n",
        "$\n",
        "\n"
      ]
    }
  ]
}